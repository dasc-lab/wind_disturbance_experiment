{
 "cells": [
  {
   "cell_type": "code",
   "execution_count": 1,
   "metadata": {},
   "outputs": [],
   "source": [
    "import jax\n",
    "import jax.numpy as jnp"
   ]
  },
  {
   "cell_type": "code",
   "execution_count": 2,
   "metadata": {},
   "outputs": [
    {
     "name": "stderr",
     "output_type": "stream",
     "text": [
      "An NVIDIA GPU may be present on this machine, but a CUDA-enabled jaxlib is not installed. Falling back to cpu.\n"
     ]
    }
   ],
   "source": [
    "a = jnp.array([ 1,2,3,4,5,6 ]).reshape(-1,1)"
   ]
  },
  {
   "cell_type": "code",
   "execution_count": 4,
   "metadata": {},
   "outputs": [
    {
     "data": {
      "text/plain": [
       "Array([[1],\n",
       "       [2],\n",
       "       [3],\n",
       "       [4],\n",
       "       [5],\n",
       "       [6]], dtype=int32)"
      ]
     },
     "execution_count": 4,
     "metadata": {},
     "output_type": "execute_result"
    }
   ],
   "source": [
    "a"
   ]
  },
  {
   "cell_type": "code",
   "execution_count": 6,
   "metadata": {},
   "outputs": [],
   "source": [
    "b = a.reshape((3,2), order='F')"
   ]
  },
  {
   "cell_type": "code",
   "execution_count": 7,
   "metadata": {},
   "outputs": [
    {
     "data": {
      "text/plain": [
       "Array([[1, 4],\n",
       "       [2, 5],\n",
       "       [3, 6]], dtype=int32)"
      ]
     },
     "execution_count": 7,
     "metadata": {},
     "output_type": "execute_result"
    }
   ],
   "source": [
    "b"
   ]
  },
  {
   "cell_type": "code",
   "execution_count": 9,
   "metadata": {},
   "outputs": [
    {
     "data": {
      "text/plain": [
       "Array([[1],\n",
       "       [2],\n",
       "       [3],\n",
       "       [4],\n",
       "       [5],\n",
       "       [6]], dtype=int32)"
      ]
     },
     "execution_count": 9,
     "metadata": {},
     "output_type": "execute_result"
    }
   ],
   "source": [
    "b.reshape(-1,1, order='F')"
   ]
  },
  {
   "cell_type": "code",
   "execution_count": 14,
   "metadata": {},
   "outputs": [
    {
     "name": "stdout",
     "output_type": "stream",
     "text": [
      "[ 1.  1.  2.  3.  4.  5.  6.  7.  8.  9. 10.]\n",
      "(1, 11)\n",
      "[[ 1.  1.  2.  3.  4.  5.  6.  7.  8.  9. 10.]]\n"
     ]
    }
   ],
   "source": [
    "arr1 = jnp.array([[1.0]])\n",
    "arr2 = jnp.array([[1.0,2.0,3.0,4.0,5.0]])\n",
    "arr3 = jnp.array([[6.0,7.0,8.0,9.0,10.0]])\n",
    "arr = jnp.concatenate((arr1,arr2,arr3),axis=1)\n",
    "print(arr[0])\n",
    "print(arr.shape)\n",
    "print(arr)"
   ]
  },
  {
   "cell_type": "code",
   "execution_count": 15,
   "metadata": {},
   "outputs": [],
   "source": [
    "def get_mean( sigma_points, weights ):\n",
    "    weighted_points = sigma_points * weights[0]\n",
    "    mu = jnp.sum( weighted_points, 1 ).reshape(-1,1)\n",
    "    return mu\n"
   ]
  },
  {
   "cell_type": "code",
   "execution_count": 16,
   "metadata": {},
   "outputs": [],
   "source": [
    "def get_mean_cov(sigma_points, weights):\n",
    "    \n",
    "    # mean\n",
    "    weighted_points = sigma_points * weights[0]\n",
    "    mu = jnp.sum( weighted_points, 1 ).reshape(-1,1)\n",
    "    \n",
    "    # covariance\n",
    "    centered_points = sigma_points - mu\n",
    "    cov = jnp.diag(jnp.sum(centered_points**2 * weights[0], axis=1))\n",
    "    return mu, cov\n"
   ]
  },
  {
   "cell_type": "code",
   "execution_count": 17,
   "metadata": {},
   "outputs": [],
   "source": [
    "def get_ut_cov_root_diagonal(cov):\n",
    "    offset = 0.000  # TODO: make sure not zero here\n",
    "    root_term = jnp.diag( jnp.sqrt(jnp.diagonal(cov)+offset)  )\n",
    "    return root_term\n"
   ]
  },
  {
   "cell_type": "code",
   "execution_count": 18,
   "metadata": {},
   "outputs": [],
   "source": [
    "def get_ut_cov_root_diagonal(cov):\n",
    "    offset = 0.000  # TODO: make sure not zero here\n",
    "    root_term = jnp.diag( jnp.sqrt(jnp.diagonal(cov)+offset)  )\n",
    "    return root_term\n",
    "def get_mean_cov_skew_kurt( sigma_points, weights ):\n",
    "    # mean\n",
    "    weighted_points = sigma_points * weights[0]\n",
    "    mu = jnp.sum( weighted_points, 1 ).reshape(-1,1)    \n",
    "    centered_points = sigma_points - mu    \n",
    "    cov = jnp.diag(jnp.sum(centered_points**2 * weights[0], axis=1))\n",
    "    \n",
    "    skewness = jnp.sum(centered_points**3 * weights[0], axis=1) #/ cov[0,0]**(3/2) # for scipy    \n",
    "    kurt = jnp.sum(centered_points**4 * weights[0], axis=1)# / cov[0,0]**(4/2)  # -3 # -3 for scipy\n",
    "    return mu, cov, skewness.reshape(-1,1), kurt.reshape(-1,1)\n",
    "\n",
    "def get_mean_cov_skew_kurt_for_generation( sigma_points, weights ):\n",
    "    # mean\n",
    "    weighted_points = sigma_points * weights[0]\n",
    "    mu = jnp.sum( weighted_points, 1 ).reshape(-1,1)    \n",
    "    centered_points = sigma_points - mu    \n",
    "    cov = jnp.diag(jnp.sum(centered_points**2 * weights[0], axis=1))\n",
    "\n",
    "    skewness_temp = jnp.sum(centered_points**3 * weights[0], axis=1) #/ cov[0,0]**(3/2) # for scipy    \n",
    "    skewness = skewness_temp / jnp.diag(cov)**(3/2)\n",
    "    \n",
    "    kurt_temp = jnp.sum(centered_points**4 * weights[0], axis=1)# / cov[0,0]**(4/2)  # -3 # -3 for scipy\n",
    "    kurt = kurt_temp / jnp.diag(cov)**(4/2)\n",
    "\n",
    "    return mu, cov, skewness.reshape(-1,1), kurt.reshape(-1,1)\n",
    "\n",
    "def generate_sigma_points_gaussian( mu, cov_root, base_term, factor ):\n",
    "    '''\n",
    "    Standard UT: Generate sigma points based on a vector of (n,) mus, resulting in 2n+1 points for each dim\n",
    "    input:\n",
    "    mu: (n,1)\n",
    "   \n",
    "    output:\n",
    "    new_weights: (1, 2n+1)\n",
    "    new_points: (n, 2n+1)\n",
    "    '''\n",
    "    n = mu.shape[0]     \n",
    "    N = 2*n + 1 # total points\n",
    "\n",
    "    alpha = 1.0\n",
    "    beta = 0.0#2.0#2.0 # optimal for gaussian\n",
    "    k = 1.0\n",
    "    Lambda = alpha**2 * ( n+k ) - n\n",
    "    \n",
    "    points0 = base_term + mu * factor\n",
    "    points1 = base_term + (mu + jnp.sqrt(n+Lambda) * cov_root)*factor\n",
    "    points2 = base_term + (mu - jnp.sqrt(n+Lambda) * cov_root)*factor\n",
    "    \n",
    "    weights0 = jnp.array([[ 1.0*Lambda/(n+Lambda) ]])\n",
    "    weights1 = jnp.ones((1,n)) * 1.0/(n+Lambda)/2.0\n",
    "    weights2 = jnp.ones((1,n)) * 1.0/(n+Lambda)/2.0\n",
    "\n",
    "    new_points = jnp.concatenate((points0, points1, points2), axis=1)\n",
    "    new_weights = jnp.concatenate((weights0, weights1, weights2), axis=1)\n",
    "    \n",
    "    return new_points, new_weights    \n",
    "\n",
    "def generate_sigma_points_gaussian_GenUT( mu, cov_root, skewness, kurt, base_term, factor ):\n",
    "    n = mu.shape[0]     \n",
    "    N = 2*n + 1 # total points\n",
    "    u = 0.5 * ( - skewness + jnp.sqrt( 4 * kurt - 3 * ( skewness )**2 ) )\n",
    "    v = u + skewness\n",
    "\n",
    "    w2 = (1.0 / v) / (u+v)\n",
    "    w1 = (w2 * v) / u\n",
    "    w0 = jnp.array([1 - jnp.sum(w1) - jnp.sum(w2)])\n",
    "    \n",
    "    U = jnp.diag(u[:,0])\n",
    "    V = jnp.diag(v[:,0])\n",
    "    points0 = base_term + mu * factor\n",
    "    points1 = base_term + (mu - cov_root @ U) * factor\n",
    "    points2 = base_term + (mu + cov_root @ V) * factor\n",
    "    new_points = jnp.concatenate( (points0, points1, points2), axis=1 )\n",
    "    new_weights = jnp.concatenate( (w0.reshape(-1,1), w1.reshape(1,-1), w2.reshape(1,-1)), axis=1 )\n",
    "\n",
    "    return new_points, new_weights\n",
    "\n",
    "def sigma_point_expand_with_mean_cov( mus, covs, weights ):\n",
    "    n, N = mus.shape # n=6, N=13\n",
    "    new_points = jnp.zeros((n*(2*n+1),N))\n",
    "    new_weights = jnp.zeros((2*n+1,N))\n",
    "\n",
    "    def body(i, inputs):\n",
    "        new_points, new_weights = inputs        \n",
    "        mu, cov = mus[:,[i]], jnp.diag(covs[:,i])\n",
    "\n",
    "        # Albus: look these 2 lines ###########################\n",
    "        root_term = get_ut_cov_root_diagonal(cov)           \n",
    "        temp_points, temp_weights = generate_sigma_points_gaussian( mu, root_term, jnp.zeros((n,1)), 1.0 )\n",
    "        ##############################################\n",
    "\n",
    "        new_points = new_points.at[:,i].set( temp_points.reshape(-1,1, order='F')[:,0] )\n",
    "        new_weights = new_weights.at[:,i].set( temp_weights.reshape(-1,1, order='F')[:,0] * weights[:,i] )   \n",
    "        return new_points, new_weights\n",
    "    new_points, new_weights = lax.fori_loop(0, N, body, (new_points, new_weights))\n",
    "    return new_points.reshape((n, N*(2*n+1)), order='F'), new_weights.reshape((1,n*(2*n+1)), order='F')\n",
    "\n",
    "def sigma_point_compress( sigma_points, weights ):\n",
    "    mu, cov = get_mean_cov( sigma_points, weights )\n",
    "    cov_root_term = get_ut_cov_root_diagonal( cov )  \n",
    "    base_term = jnp.zeros((mu.shape))\n",
    "    return generate_sigma_points_gaussian( mu, cov_root_term, base_term, jnp.array([1.0]) )\n",
    "\n",
    "def sigma_point_compress_GenUT( sigma_points, weights ):\n",
    "    mu, cov, skewness, kurt = get_mean_cov_skew_kurt_for_generation( sigma_points, weights )\n",
    "    cov_root_term = get_ut_cov_root_diagonal( cov )  \n",
    "    base_term = jnp.zeros((mu.shape))\n",
    "    return generate_sigma_points_gaussian_GenUT( mu, cov_root_term, skewness, kurt, base_term, jnp.array([1.0]) )"
   ]
  },
  {
   "cell_type": "code",
   "execution_count": 26,
   "metadata": {},
   "outputs": [
    {
     "name": "stdout",
     "output_type": "stream",
     "text": [
      "weights:  [[0.9158251  0.21620357 0.26835215 0.6011201  0.437374   0.8539797\n",
      "  0.7195103  0.13791871 0.3185042  0.7317047  0.9511024  0.3303691\n",
      "  0.24733603]]\n",
      "weights[0]:  [0.9158251  0.21620357 0.26835215 0.6011201  0.437374   0.8539797\n",
      " 0.7195103  0.13791871 0.3185042  0.7317047  0.9511024  0.3303691\n",
      " 0.24733603]\n",
      "[[3.8098347]\n",
      " [2.6275427]\n",
      " [4.102255 ]\n",
      " [3.8639886]\n",
      " [4.2684965]\n",
      " [2.830641 ]]\n",
      "[[3.8098347]\n",
      " [2.6275427]\n",
      " [4.102255 ]\n",
      " [3.8639886]\n",
      " [4.2684965]\n",
      " [2.830641 ]]\n",
      "[[71.174065  0.        0.        0.        0.        0.      ]\n",
      " [ 0.       33.973057  0.        0.        0.        0.      ]\n",
      " [ 0.        0.       82.579926  0.        0.        0.      ]\n",
      " [ 0.        0.        0.       73.28244   0.        0.      ]\n",
      " [ 0.        0.        0.        0.       89.51134   0.      ]\n",
      " [ 0.        0.        0.        0.        0.       39.613228]]\n",
      "[[8.436472 0.       0.       0.       0.       0.      ]\n",
      " [0.       5.828641 0.       0.       0.       0.      ]\n",
      " [0.       0.       9.08735  0.       0.       0.      ]\n",
      " [0.       0.       0.       8.560516 0.       0.      ]\n",
      " [0.       0.       0.       0.       9.461043 0.      ]\n",
      " [0.       0.       0.       0.       0.       6.293904]]\n"
     ]
    }
   ],
   "source": [
    "key = jax.random.PRNGKey(0)\n",
    "\n",
    "# Generate a 6x13 array\n",
    "sigma_points = jax.random.uniform(key, (6, 13))\n",
    "\n",
    "# Generate a new key for the next random array\n",
    "key, subkey = jax.random.split(key)\n",
    "\n",
    "# Generate a 1x13 array\n",
    "weights = jax.random.uniform(subkey, (1, 13))\n",
    "print(\"weights: \", weights)\n",
    "print(\"weights[0]: \", weights[0])\n",
    "mu = get_mean(sigma_points, weights)\n",
    "print(mu)\n",
    "key = jax.random.PRNGKey(0)\n",
    "\n",
    "# Generate a 6x13 array\n",
    "sigma_points = jax.random.uniform(key, (6, 13))\n",
    "\n",
    "# Generate a new key for the next random array\n",
    "key, subkey = jax.random.split(key)\n",
    "\n",
    "# Generate a 1x13 array\n",
    "weights = jax.random.uniform(subkey, (1, 13))\n",
    "mu,cov = get_mean_cov(sigma_points, weights)\n",
    "print(mu)\n",
    "print(cov)\n",
    "\n",
    "\n",
    "root_cov = get_ut_cov_root_diagonal(cov)\n",
    "print(root_cov)\n"
   ]
  },
  {
   "cell_type": "code",
   "execution_count": 22,
   "metadata": {},
   "outputs": [
    {
     "name": "stdout",
     "output_type": "stream",
     "text": [
      "[[3.8098347]\n",
      " [2.6275427]\n",
      " [4.102255 ]\n",
      " [3.8639886]\n",
      " [4.2684965]\n",
      " [2.830641 ]]\n",
      "[[71.174065  0.        0.        0.        0.        0.      ]\n",
      " [ 0.       33.973057  0.        0.        0.        0.      ]\n",
      " [ 0.        0.       82.579926  0.        0.        0.      ]\n",
      " [ 0.        0.        0.       73.28244   0.        0.      ]\n",
      " [ 0.        0.        0.        0.       89.51134   0.      ]\n",
      " [ 0.        0.        0.        0.        0.       39.613228]]\n",
      "[[-0.3885442 ]\n",
      " [-0.39047277]\n",
      " [-0.389005  ]\n",
      " [-0.3891043 ]\n",
      " [-0.3896621 ]\n",
      " [-0.39276117]]\n",
      "[[0.15176381]\n",
      " [0.1537108 ]\n",
      " [0.15225746]\n",
      " [0.1523434 ]\n",
      " [0.1529323 ]\n",
      " [0.15589994]]\n"
     ]
    }
   ],
   "source": [
    "\n",
    "mu, cov, skew, kurt = get_mean_cov_skew_kurt_for_generation(sigma_points, weights)\n",
    "print(mu)\n",
    "print(cov)\n",
    "print(skew)\n",
    "print(kurt)"
   ]
  },
  {
   "cell_type": "code",
   "execution_count": 28,
   "metadata": {},
   "outputs": [
    {
     "data": {
      "text/plain": [
       "(Array([[ 0.18784384,  0.18784384,  0.18784384,  0.18784384,  0.18784384,\n",
       "          0.18784384,  0.18784384,  0.18784384,  0.18784384,  0.18784384,\n",
       "          0.18784384,  0.18784384,  0.18784384],\n",
       "        [-1.2833426 , -1.2833426 , -1.2833426 , -1.2833426 , -1.2833426 ,\n",
       "         -1.2833426 , -1.2833426 , -1.2833426 , -1.2833426 , -1.2833426 ,\n",
       "         -1.2833426 , -1.2833426 , -1.2833426 ],\n",
       "        [ 0.6494181 ,  0.6494181 ,  0.6494181 ,  0.6494181 ,  0.6494181 ,\n",
       "          0.6494181 ,  0.6494181 ,  0.6494181 ,  0.6494181 ,  0.6494181 ,\n",
       "          0.6494181 ,  0.6494181 ,  0.6494181 ],\n",
       "        [ 1.2490594 ,  1.2490594 ,  1.2490594 ,  1.2490594 ,  1.2490594 ,\n",
       "          1.2490594 ,  1.2490594 ,  1.2490594 ,  1.2490594 ,  1.2490594 ,\n",
       "          1.2490594 ,  1.2490594 ,  1.2490594 ],\n",
       "        [ 0.24447003,  0.24447003,  0.24447003,  0.24447003,  0.24447003,\n",
       "          0.24447003,  0.24447003,  0.24447003,  0.24447003,  0.24447003,\n",
       "          0.24447003,  0.24447003,  0.24447003],\n",
       "        [-0.11744965, -0.11744965, -0.11744965, -0.11744965, -0.11744965,\n",
       "         -0.11744965, -0.11744965, -0.11744965, -0.11744965, -0.11744965,\n",
       "         -0.11744965, -0.11744965, -0.11744965]], dtype=float32),\n",
       " array([[0.07692308, 0.07692308, 0.07692308, 0.07692308, 0.07692308,\n",
       "         0.07692308, 0.07692308, 0.07692308, 0.07692308, 0.07692308,\n",
       "         0.07692308, 0.07692308, 0.07692308]]))"
      ]
     },
     "execution_count": 28,
     "metadata": {},
     "output_type": "execute_result"
    }
   ],
   "source": [
    "import numpy as np\n",
    "def generate_state_vector(key, n):\n",
    "    return jax.random.normal(key, (n, 1))\n",
    "\n",
    "key = jax.random.PRNGKey(0)  # Initialize the random key\n",
    "n = 6  # Size of the state vector\n",
    "state_vector = generate_state_vector(key, n)\n",
    "def initialize_sigma_points(X):\n",
    "    '''\n",
    "    Returns Equally weighted Sigma Particles\n",
    "    '''\n",
    "    # return 2N + 1 points\n",
    "    n = X.shape[0]\n",
    "    num_points = 2*n + 1\n",
    "    sigma_points = np.repeat( X, num_points, axis=1 )\n",
    "    weights = np.ones((1,num_points)) * 1.0/( num_points )\n",
    "    return sigma_points, weights\n",
    "initialize_sigma_points(state_vector)"
   ]
  },
  {
   "cell_type": "code",
   "execution_count": 29,
   "metadata": {},
   "outputs": [],
   "source": [
    "\n",
    "cir_radius =      [0.3, 0.3, 0.4, 0.4, 0.4, 0.4]\n",
    "cir_angular_vel = [1.5, 1.5, 2.0, 2.5, 3.0, 3.0]\n",
    "###### in world frame NOT NED ######\n",
    "cir_origin_x =    [0.0, 0.4, 0.4, 0.6, 0.8, 1.0]\n",
    "cir_origin_y =    [0.4, 0.0, 0.0, 0.0, 0.0, 0.0]\n",
    "\n",
    "\n",
    "figure8_radius =        [0.2, 0.2, 0.2, 0.4, 0.4, 0.4, 0.4, 0.4, 0.6]\n",
    "figure8_angular_vel =   [1.5, 2.0, 2.5, 1.5, 1.5, 2.0, 2.0, 2.5, 1.5]\n",
    "figure8_origin_x =      [0.8, 1.2, 1.2, 1.2, 1.0, 0.4, 1.0, 1.0, 1.0]\n",
    "figure8_origin_y =      [0.0, 0.0, 0.0, 0.0, 0.0, 0.0, 0.0, 0.0, 0.0]\n",
    "def circle_pos_vel_acc(deltaT, radius, angular_vel, origin_x, origin_y):\n",
    "    '''\n",
    "    Calculate reference pos, vel, and acc for the drone flying in a circular trajectory in NED frame.\n",
    "    '''\n",
    "\n",
    "    ######################################################\n",
    "    ################## Reference Pos #####################\n",
    "    ######################################################\n",
    "    x = radius * jnp.cos(angular_vel * deltaT) + origin_x\n",
    "    y = radius * jnp.sin(angular_vel * deltaT) + origin_y\n",
    "    ref_pos = jnp.array([y,  x, -0.4])\n",
    "\n",
    "    ######################################################\n",
    "    ################## Reference Vel #####################\n",
    "    ######################################################\n",
    "    vx = -radius * angular_vel* jnp.sin(angular_vel * deltaT)\n",
    "    vy = radius * angular_vel* jnp.cos(angular_vel * deltaT)\n",
    "    ref_vel = jnp.array([vy, vx,0])\n",
    "\n",
    "    ######################################################\n",
    "    ################## Reference Acc #####################\n",
    "    ######################################################\n",
    "    ax = -radius * (angular_vel**2) * jnp.cos(angular_vel * deltaT)\n",
    "    ay = -radius * (angular_vel**2) * jnp.sin(angular_vel * deltaT)\n",
    "    ref_acc = jnp.array([ay, ax, 0])\n",
    "\n",
    "    ######################################################\n",
    "    ################## To Jnp Array ######################\n",
    "    ######################################################\n",
    "    # assert pos.shape == vel.shape == acc.shape, \"output shapes are different\"\n",
    "    return ref_pos, ref_vel, ref_acc\n",
    "\n",
    "\n",
    "\n",
    "def figure8_pos_vel_acc(deltaT, radius, angular_vel, origin_x, origin_y):\n",
    "    '''\n",
    "    Calculate reference pos, vel, and acc for the drone flying in figure8 trajectory in NED frame\n",
    "    '''\n",
    "    ######################################################\n",
    "    ################## Reference Pos #####################\n",
    "    ######################################################\n",
    "    x = radius * jnp.sin(angular_vel * deltaT) + origin_x\n",
    "    y = radius * jnp.sin(angular_vel * deltaT) * jnp.cos(angular_vel * deltaT) + origin_y\n",
    "    ref_pos = [y,  x, -0.4]\n",
    "\n",
    "    ######################################################\n",
    "    ################## Reference Vel #####################\n",
    "    ######################################################\n",
    "    vx = radius * angular_vel * jnp.cos(angular_vel * deltaT)\n",
    "    vy = radius * angular_vel * (jnp.cos(angular_vel * deltaT)**2-jnp.sin(angular_vel * deltaT)**2)\n",
    "    ref_vel= [vy,vx,0]\n",
    "    ######################################################\n",
    "    ################## Reference Acc #####################\n",
    "    ######################################################\n",
    "    ax = -radius * (angular_vel**2) * jnp.sin(angular_vel * deltaT)\n",
    "    ay = -radius * 4 * (angular_vel**2) * jnp.sin(angular_vel * deltaT) * jnp.cos(angular_vel * deltaT)\n",
    "    ref_acc = [ay,ax,0]\n",
    "    pos = jnp.array(ref_pos)\n",
    "    vel = jnp.array(ref_vel)\n",
    "    acc = jnp.array(ref_acc)\n",
    "    assert pos.shape == vel.shape == acc.shape, \"output shapes are different\"\n",
    "    return pos, vel, acc\n",
    "\n",
    "def state_ref(t):\n",
    "    pos, vel, acc = circle_pos_vel_acc( t, cir_radius[0], cir_angular_vel[0], cir_origin_x[0], cir_origin_y[0] )\n",
    "    return pos.reshape(-1,1), vel.reshape(-1,1), acc.reshape(-1,1)\n",
    "def policy( t, states, policy_params):\n",
    "    '''\n",
    "    Expect a multiple states as input. Each state is a column vector.\n",
    "    Should then return multiple control inputs. Each input should be a column vector\n",
    "    '''\n",
    "    m = 0.641 #kg\n",
    "    g = 9.8066\n",
    "    # kx = 14\n",
    "    # kv = 7.4\n",
    "\n",
    "    kx = policy_params[0]\n",
    "    kv = policy_params[1]\n",
    "\n",
    "    pos_ref, vel_ref, acc_ref = state_ref(t)\n",
    "\n",
    "    ex = states[0:3] - pos_ref\n",
    "    ev = states[3:6] - vel_ref\n",
    "    thrust = - kx * ex - kv * ev + m * acc_ref - m * g\n",
    "    return thrust / m, pos_ref, vel_ref\n",
    "\n",
    "def generate_time(start_time, end_time, step_size):\n",
    "    '''\n",
    "    Generate a time vector to simulate trajectories\n",
    "    '''\n",
    "    return jnp.arange(start_time, end_time + step_size, step_size)\n",
    "\n",
    "time_array = generate_time(0, 5, 0.1)\n"
   ]
  }
 ],
 "metadata": {
  "kernelspec": {
   "display_name": "Python 3 (ipykernel)",
   "language": "python",
   "name": "python3"
  },
  "language_info": {
   "codemirror_mode": {
    "name": "ipython",
    "version": 3
   },
   "file_extension": ".py",
   "mimetype": "text/x-python",
   "name": "python",
   "nbconvert_exporter": "python",
   "pygments_lexer": "ipython3",
   "version": "3.10.12"
  }
 },
 "nbformat": 4,
 "nbformat_minor": 4
}
